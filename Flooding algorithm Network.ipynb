{
 "cells": [
  {
   "cell_type": "code",
   "execution_count": 1,
   "metadata": {},
   "outputs": [],
   "source": [
    "import math\n",
    "import random\n",
    "import numpy as np\n",
    "import matplotlib\n",
    "import matplotlib.pyplot as plt\n",
    "from collections import namedtuple\n",
    "from itertools import count\n",
    "from PIL import Image\n",
    "import torch\n",
    "import torch.nn as nn\n",
    "import torch.optim as optim\n",
    "import torch.nn.functional as F\n",
    "import torchvision.transforms as T\n",
    "from random import seed\n",
    "from sklearn import preprocessing\n",
    "seed(1)"
   ]
  },
  {
   "cell_type": "code",
   "execution_count": 2,
   "metadata": {},
   "outputs": [],
   "source": [
    "class conv_lstm(nn.Module):\n",
    "    def __init__(self, lr=0.001, input_channels = 1, batch_size = 1, lstm_hidden_size = 512, lstm_layer_size = 2):\n",
    "        super(conv_lstm, self).__init__()\n",
    "        self.lr = lr\n",
    "        self.input_channels = input_channels\n",
    "        self.device = torch.device(\"cuda\" if torch.cuda.is_available() else \"cpu\")\n",
    "        #self.height = height\n",
    "        #self.width = width\n",
    "        self.batch_size = batch_size\n",
    "        self.lstm_hidden_size = lstm_hidden_size\n",
    "        self.lstm_layer_size = lstm_layer_size\n",
    "        \n",
    "        self.conv_layer = nn.Conv2d(in_channels = self.input_channels, out_channels = 10,\n",
    "                                   kernel_size = 3, stride = 1)\n",
    "        conv_layer_init_ = 1.0/np.sqrt(self.conv_layer.weight.data.size()[0])\n",
    "        self.conv_layer.weight.data.uniform_(-conv_layer_init_, conv_layer_init_)\n",
    "        self.conv_layer.bias.data.uniform_(-conv_layer_init_, conv_layer_init_)\n",
    "        self.conv_layer_batchNorm = nn.BatchNorm2d(10)\n",
    "        self.pool = nn.AvgPool2d((2,4), stride=1)#experiment with maxpool/avgpool\n",
    "        #second querry - should i maxpool/avgpool then send to lstm layer or leave it as it is? Refer to paper\n",
    "        \n",
    "        \n",
    "        self.conv_layer1 = nn.Conv2d(in_channels = 10, out_channels = 10,\n",
    "                                   kernel_size = 2, stride = 1)\n",
    "        conv_layer_init_1 = 1.0/np.sqrt(self.conv_layer1.weight.data.size()[0])\n",
    "        self.conv_layer1.weight.data.uniform_(-conv_layer_init_1, conv_layer_init_1)\n",
    "        self.conv_layer1.bias.data.uniform_(-conv_layer_init_1, conv_layer_init_1)\n",
    "        self.conv_layer_batchNorm1 = nn.BatchNorm2d(10)\n",
    "        self.pool1 = nn.AvgPool2d((2,2), stride=1)#experiment with maxpool/avgpool\n",
    "        \n",
    "        \n",
    "        \n",
    "        #entirely dependant on convlayer out shape\n",
    "        self.lstm_layer = nn.LSTM(input_size = 3,#check forward shape and last shape: adjust accordingly\n",
    "                                 hidden_size = self.lstm_hidden_size,\n",
    "                                 num_layers  = self.lstm_layer_size,\n",
    "                                 batch_first = True,\n",
    "                                 dropout = 0.2)\n",
    "        \n",
    "        self.lstm_layer1 = nn.LSTM(input_size = 512,#check forward shape and last shape: adjust accordingly\n",
    "                                 hidden_size = self.lstm_hidden_size,\n",
    "                                 num_layers  = self.lstm_layer_size,\n",
    "                                 batch_first = True,\n",
    "                                 dropout = 0.05)\n",
    "        \n",
    "        \n",
    "        self.fc_layer = nn.Linear(self.lstm_hidden_size, self.lstm_hidden_size)#10 to represebt feature length\n",
    "        fc_init_ = 1.0/np.sqrt(self.fc_layer.weight.data.size()[0])\n",
    "        #initialize weights and biases\n",
    "        self.fc_layer.weight.data.uniform_(-fc_init_, fc_init_)\n",
    "        self.fc_layer.bias.data.uniform_(-fc_init_, fc_init_)\n",
    "        \n",
    "        self.fc_layer1 = nn.Linear(self.lstm_hidden_size, 10)\n",
    "        fc_init_1 = 1.0/np.sqrt(self.fc_layer1.weight.data.size()[0])\n",
    "        self.fc_layer1.weight.data.uniform_(-fc_init_1, fc_init_1)\n",
    "        self.fc_layer1.bias.data.uniform_(-fc_init_1, fc_init_1)\n",
    "        \n",
    "        self.ln = nn.LayerNorm(self.lstm_hidden_size)\n",
    "        \n",
    "        self.to(self.device)\n",
    "        \n",
    "    def forward(self, frames):\n",
    "        x = self.conv_layer(frames)\n",
    "        x = self.conv_layer_batchNorm(x)\n",
    "        x = F.relu(x)\n",
    "        x = self.pool(x)\n",
    "        \n",
    "        \n",
    "        x = self.conv_layer1(x)\n",
    "        x = self.conv_layer_batchNorm1(x)\n",
    "        x = F.relu(x)\n",
    "        x = self.pool1(x)\n",
    "        \n",
    "        #print(\"c_Out: \",x.shape)\n",
    "        x = x.squeeze()\n",
    "        batch_size = x.size(0)\n",
    "        \n",
    "        hidden_state = torch.zeros(self.lstm_layer_size, \n",
    "                                  batch_size,\n",
    "                                  self.lstm_hidden_size).to(self.device)\n",
    "        cell_state = torch.zeros(self.lstm_layer_size,\n",
    "                                batch_size,\n",
    "                                self.lstm_hidden_size).to(self.device)\n",
    "        hidden_lstm_layer = (hidden_state, cell_state)\n",
    "        \n",
    "        \n",
    "        \n",
    "        hidden_state1 = torch.zeros(self.lstm_layer_size, \n",
    "                                  batch_size,\n",
    "                                  self.lstm_hidden_size).to(self.device)\n",
    "        cell_state1 = torch.zeros(self.lstm_layer_size,\n",
    "                                batch_size,\n",
    "                                self.lstm_hidden_size).to(self.device)\n",
    "        hidden_lstm_layer1 = (hidden_state1, cell_state1)\n",
    "        \n",
    "        #print(\"conv: \", x.shape)\n",
    "        out, (hn,cn) = self.lstm_layer(x,(hidden_state, cell_state))\n",
    "        #print(\"lstm: \",out.shape)\n",
    "        out, (hn,cn) = self.lstm_layer1(out,(hidden_state1, cell_state1))\n",
    "        \n",
    "        #print(\"lstm_out shape: \", out.shape)\n",
    "        modified_out = out[:, -1, :]\n",
    "        fc_out = self.fc_layer(modified_out)\n",
    "        fc_out = self.ln(fc_out)\n",
    "        fc_out = F.relu(fc_out)\n",
    "        fc_out = self.fc_layer1(fc_out)\n",
    "        return fc_out, out, hn"
   ]
  },
  {
   "cell_type": "code",
   "execution_count": 3,
   "metadata": {},
   "outputs": [
    {
     "data": {
      "text/plain": [
       "device(type='cpu')"
      ]
     },
     "execution_count": 3,
     "metadata": {},
     "output_type": "execute_result"
    }
   ],
   "source": [
    "device = torch.device(\"cuda\" if torch.cuda.is_available() else \"cpu\")\n",
    "device"
   ]
  },
  {
   "cell_type": "code",
   "execution_count": 4,
   "metadata": {},
   "outputs": [],
   "source": [
    "def train_model(model, dataloader, optimizer, criterion, epochs=10):\n",
    "    loss_array = []\n",
    "    epoch_array = []\n",
    "    for epoch in range(epochs):\n",
    "        running_loss = 0.0\n",
    "        for inputs, labels in dataloader:\n",
    "            optimizer.zero_grad()\n",
    "            #print((inputs.type()))\n",
    "            inputs = inputs.type(torch.FloatTensor)\n",
    "            labels = labels.type(torch.FloatTensor)\n",
    "            inputs = inputs.to(device)\n",
    "            labels = labels.to(device)\n",
    "            #print((inputs.type()))\n",
    "            predictions,_,__ = model(inputs)\n",
    "            #print(predictions.size(), labels.squeeze().size())\n",
    "            loss_ = criterion(predictions, labels.squeeze())\n",
    "            loss_.backward()\n",
    "            optimizer.step()\n",
    "            \n",
    "            running_loss += loss_.item()*inputs.size(0) \n",
    "        print(running_loss)\n",
    "        loss_array.append(running_loss/len(dataloader.dataset))\n",
    "        epoch_array.append(epoch)\n",
    "    return loss_array, epoch_array"
   ]
  },
  {
   "cell_type": "code",
   "execution_count": 5,
   "metadata": {},
   "outputs": [],
   "source": [
    "def test_model(model, data_loader, criterion, epochs = 1):\n",
    "    y_true = []\n",
    "    y_preds = []\n",
    "    with torch.no_grad():\n",
    "        for epoch in range(epochs):\n",
    "                running_loss = 0.0\n",
    "                for inputs, labels in data_loader:\n",
    "                    inputs = inputs.type(torch.FloatTensor)\n",
    "                    labels = labels.type(torch.FloatTensor)\n",
    "                    inputs = inputs.to(device)\n",
    "                    labels = labels.to(device)\n",
    "\n",
    "                    outputs,_,__ = model(inputs)\n",
    "                    #print(\"labels: \", labels.shape)\n",
    "                    #print(\"outputs: \", outputs.shape)\n",
    "                    loss = criterion(outputs, labels.squeeze())\n",
    "                                            \n",
    "                    running_loss+=loss.item()*inputs.size(0)                    \n",
    "                    #print(\"preds: \", preds, \" targets: \", targets)\n",
    "                    #print(y_true.shape)\n",
    "                    labels = labels.squeeze()\n",
    "                    y_true.append(labels.detach().cpu().numpy())\n",
    "                    y_preds.append(outputs.detach().cpu().numpy())\n",
    "                    \n",
    "                print(\"epoch: \",epoch)\n",
    "                print(\"loss: \",running_loss/len(data_loader.dataset))\n",
    "    return y_true, y_preds"
   ]
  },
  {
   "cell_type": "code",
   "execution_count": 6,
   "metadata": {},
   "outputs": [],
   "source": [
    "def test_model_force_feed_out(model, data_loader, criterion, epochs = 1):\n",
    "    y_true = []\n",
    "    y_preds = []\n",
    "    switch = False\n",
    "    with torch.no_grad():\n",
    "        for epoch in range(epochs):\n",
    "                running_loss = 0.0\n",
    "                for inputs, labels in data_loader:\n",
    "                    if switch == False:\n",
    "                        inputs = inputs.type(torch.FloatTensor)\n",
    "                        print(inputs.size())\n",
    "                        switch = True\n",
    "                    else:\n",
    "                        for i in range(2):\n",
    "                            outputs = outputs.unsqueeze(dim = 0)\n",
    "                        print(\"switched: \", outputs.size())\n",
    "                        inputs = outputs\n",
    "                        \n",
    "                    labels = labels.type(torch.FloatTensor)\n",
    "                    inputs = inputs.to(device)\n",
    "                    labels = labels.to(device)\n",
    "\n",
    "                    outputs,_,__ = model(inputs)\n",
    "                    #print(\"labels: \", labels.shape)\n",
    "                    #print(\"outputs: \", outputs.shape)\n",
    "                    loss = criterion(outputs, labels.squeeze())\n",
    "                                            \n",
    "                    running_loss+=loss.item()*inputs.size(0)                    \n",
    "                    #print(\"preds: \", preds, \" targets: \", targets)\n",
    "                    #print(y_true.shape)\n",
    "                    labels = labels.squeeze()\n",
    "                    y_true.append(labels.detach().cpu().numpy())\n",
    "                    y_preds.append(outputs.detach().cpu().numpy())\n",
    "                    \n",
    "                print(\"epoch: \",epoch)\n",
    "                print(\"loss: \",running_loss/len(data_loader.dataset))\n",
    "    return y_true, y_preds"
   ]
  },
  {
   "cell_type": "code",
   "execution_count": 33,
   "metadata": {},
   "outputs": [],
   "source": [
    "model = conv_lstm()"
   ]
  },
  {
   "cell_type": "code",
   "execution_count": 34,
   "metadata": {},
   "outputs": [
    {
     "data": {
      "text/plain": [
       "conv_lstm(\n",
       "  (conv_layer): Conv2d(1, 10, kernel_size=(3, 3), stride=(1, 1))\n",
       "  (conv_layer_batchNorm): BatchNorm2d(10, eps=1e-05, momentum=0.1, affine=True, track_running_stats=True)\n",
       "  (pool): AvgPool2d(kernel_size=(2, 4), stride=1, padding=0)\n",
       "  (conv_layer1): Conv2d(10, 10, kernel_size=(2, 2), stride=(1, 1))\n",
       "  (conv_layer_batchNorm1): BatchNorm2d(10, eps=1e-05, momentum=0.1, affine=True, track_running_stats=True)\n",
       "  (pool1): AvgPool2d(kernel_size=(2, 2), stride=1, padding=0)\n",
       "  (lstm_layer): LSTM(3, 512, num_layers=2, batch_first=True, dropout=0.2)\n",
       "  (lstm_layer1): LSTM(512, 512, num_layers=2, batch_first=True, dropout=0.05)\n",
       "  (fc_layer): Linear(in_features=512, out_features=512, bias=True)\n",
       "  (fc_layer1): Linear(in_features=512, out_features=10, bias=True)\n",
       "  (ln): LayerNorm((512,), eps=1e-05, elementwise_affine=True)\n",
       ")"
      ]
     },
     "execution_count": 34,
     "metadata": {},
     "output_type": "execute_result"
    }
   ],
   "source": [
    "model"
   ]
  },
  {
   "cell_type": "code",
   "execution_count": 9,
   "metadata": {},
   "outputs": [],
   "source": [
    "#Implement dataloader\n",
    "from torch.utils.data import DataLoader"
   ]
  },
  {
   "cell_type": "code",
   "execution_count": 10,
   "metadata": {},
   "outputs": [
    {
     "data": {
      "text/plain": [
       "78"
      ]
     },
     "execution_count": 10,
     "metadata": {},
     "output_type": "execute_result"
    }
   ],
   "source": [
    "#how do i wanna load data?\n",
    "#input: frame one\n",
    "#output(label): frame 2\n",
    "import ipynb.fs.full.Flood_dataloader as Flood_dataloader\n",
    "import os\n",
    "#file_       = 'conv_lstm.csv'\n",
    "file_       = os.path.join(\"csv_files/\", \"convlstm.csv\")\n",
    "root_input  = 'frame_tensors/'\n",
    "root_output = 'frame_output_tensors/'\n",
    "dataset = Flood_dataloader.conv_lstm_dataloader(file_, root_input, root_output)\n",
    "len(dataset)"
   ]
  },
  {
   "cell_type": "code",
   "execution_count": 36,
   "metadata": {},
   "outputs": [],
   "source": [
    "split_x = 69\n",
    "split_y = 9\n",
    "#split_x = 191\n",
    "#split_y = 5\n",
    "batch_size = 1\n",
    "train_set, test_set = torch.utils.data.random_split(dataset,[split_x,split_y])\n",
    "train_loader = DataLoader(dataset=train_set, batch_size = batch_size, shuffle = True)\n",
    "test_loader = DataLoader(dataset=test_set, batch_size = batch_size, shuffle = False)"
   ]
  },
  {
   "cell_type": "code",
   "execution_count": 37,
   "metadata": {},
   "outputs": [],
   "source": [
    "criterion = torch.nn.MSELoss() \n",
    "optimizer = torch.optim.Adam(model.parameters(), lr=0.0001)"
   ]
  },
  {
   "cell_type": "code",
   "execution_count": 38,
   "metadata": {
    "scrolled": true
   },
   "outputs": [
    {
     "name": "stdout",
     "output_type": "stream",
     "text": [
      "24.843850538134575\n",
      "7.261408880352974\n",
      "6.662036068737507\n",
      "5.731412310153246\n",
      "5.5305724665522575\n",
      "4.518440652638674\n",
      "4.37032126262784\n",
      "3.9948962815105915\n",
      "3.8862991966307163\n",
      "3.7351905331015587\n",
      "3.666165791451931\n",
      "3.368359085172415\n",
      "3.373459240421653\n",
      "3.077641813084483\n",
      "3.0490962639451027\n",
      "3.0188324209302664\n",
      "2.9661198016256094\n",
      "2.907009745016694\n",
      "2.8165128342807293\n",
      "2.620174029842019\n",
      "2.6169882770627737\n",
      "2.716761151328683\n",
      "2.6685869432985783\n",
      "2.4415918607264757\n",
      "2.531084356829524\n",
      "2.5175571013242006\n",
      "2.450630388222635\n",
      "2.314118948765099\n",
      "2.279347280971706\n",
      "2.198847425170243\n",
      "2.369948831386864\n",
      "2.254618006758392\n",
      "2.223656326532364\n",
      "2.1445296267047524\n",
      "2.085015476681292\n",
      "2.1984005318954587\n",
      "2.22115183994174\n",
      "2.003714473452419\n",
      "1.8985909544862807\n",
      "1.9353264383971691\n",
      "1.8957494175992906\n",
      "1.8991803242824972\n",
      "2.0012967973016202\n",
      "1.9440246880985796\n",
      "1.791630232706666\n",
      "1.7766428454779088\n",
      "1.7477213172242045\n",
      "1.741536202840507\n",
      "1.719727685675025\n",
      "1.6664894674904644\n",
      "1.5879296050406992\n",
      "1.6746402601711452\n",
      "1.635728968307376\n",
      "1.5955429184250534\n",
      "1.6105854827910662\n",
      "1.604884734377265\n",
      "1.5696413326077163\n",
      "1.5319560961797833\n",
      "1.5500805145129561\n",
      "1.6956389537081122\n",
      "1.505805823719129\n",
      "1.4887427827343345\n",
      "1.483579862397164\n",
      "1.4932968150824308\n",
      "1.514713691547513\n",
      "1.4366994970478117\n",
      "1.505917604546994\n",
      "1.4491431729402393\n",
      "1.4636229346506298\n",
      "1.4656040740665048\n",
      "1.3534577055834234\n",
      "1.414852678310126\n",
      "1.3589134823996574\n",
      "1.3461570162326097\n",
      "1.4426246811635792\n",
      "1.3825389805715531\n",
      "1.3788939220830798\n",
      "1.3631085297092795\n",
      "1.3482441345695406\n",
      "1.320768765406683\n",
      "1.3318959916941822\n",
      "1.3312848969362676\n",
      "1.260383875342086\n",
      "1.340372746111825\n",
      "1.2772893228102475\n",
      "1.2973486024420708\n",
      "1.3308435059152544\n",
      "1.3622788903303444\n",
      "1.2358616921119392\n",
      "1.335353643167764\n",
      "1.2522776974365115\n",
      "1.1600412104744464\n",
      "1.231628973968327\n",
      "1.153423450421542\n",
      "1.1850335407070816\n",
      "1.2368509229272604\n",
      "1.1329293004237115\n",
      "1.2595689888112247\n",
      "1.1782898562960327\n",
      "1.1903751243371516\n"
     ]
    }
   ],
   "source": [
    "x_values, y_values = train_model(model, train_loader, optimizer, criterion, epochs=100)"
   ]
  },
  {
   "cell_type": "code",
   "execution_count": 39,
   "metadata": {},
   "outputs": [
    {
     "data": {
      "text/html": [
       "<div>\n",
       "<style scoped>\n",
       "    .dataframe tbody tr th:only-of-type {\n",
       "        vertical-align: middle;\n",
       "    }\n",
       "\n",
       "    .dataframe tbody tr th {\n",
       "        vertical-align: top;\n",
       "    }\n",
       "\n",
       "    .dataframe thead th {\n",
       "        text-align: right;\n",
       "    }\n",
       "</style>\n",
       "<table border=\"1\" class=\"dataframe\">\n",
       "  <thead>\n",
       "    <tr style=\"text-align: right;\">\n",
       "      <th></th>\n",
       "      <th>loss</th>\n",
       "      <th>epoch</th>\n",
       "    </tr>\n",
       "  </thead>\n",
       "  <tbody>\n",
       "    <tr>\n",
       "      <th>0</th>\n",
       "      <td>0.360056</td>\n",
       "      <td>0</td>\n",
       "    </tr>\n",
       "    <tr>\n",
       "      <th>1</th>\n",
       "      <td>0.105238</td>\n",
       "      <td>1</td>\n",
       "    </tr>\n",
       "    <tr>\n",
       "      <th>2</th>\n",
       "      <td>0.096551</td>\n",
       "      <td>2</td>\n",
       "    </tr>\n",
       "    <tr>\n",
       "      <th>3</th>\n",
       "      <td>0.083064</td>\n",
       "      <td>3</td>\n",
       "    </tr>\n",
       "    <tr>\n",
       "      <th>4</th>\n",
       "      <td>0.080153</td>\n",
       "      <td>4</td>\n",
       "    </tr>\n",
       "  </tbody>\n",
       "</table>\n",
       "</div>"
      ],
      "text/plain": [
       "       loss  epoch\n",
       "0  0.360056      0\n",
       "1  0.105238      1\n",
       "2  0.096551      2\n",
       "3  0.083064      3\n",
       "4  0.080153      4"
      ]
     },
     "execution_count": 39,
     "metadata": {},
     "output_type": "execute_result"
    }
   ],
   "source": [
    "import seaborn as sns\n",
    "import pandas as pd\n",
    "data1 = {'loss':x_values,'epoch':y_values}\n",
    "df1 = pd.DataFrame(data1)\n",
    "df1.head()"
   ]
  },
  {
   "cell_type": "code",
   "execution_count": 40,
   "metadata": {},
   "outputs": [
    {
     "data": {
      "image/png": "[encoded data removed]",
      "text/plain": [
       "<Figure size 432x216 with 1 Axes>"
      ]
     },
     "metadata": {
      "needs_background": "light"
     },
     "output_type": "display_data"
    }
   ],
   "source": [
    "plt.rcParams[\"figure.figsize\"] = (6,3) #set plot size\n",
    "plt3 = sns.lineplot(x=\"epoch\", y=\"loss\", data=df1) #blue"
   ]
  },
  {
   "cell_type": "code",
   "execution_count": 41,
   "metadata": {},
   "outputs": [],
   "source": [
    "plt3.figure.savefig(\"avg-pooling-10-channel.png\")"
   ]
  },
  {
   "cell_type": "code",
   "execution_count": 42,
   "metadata": {},
   "outputs": [],
   "source": [
    "#tr,pr = test_model(model, test_loader, criterion, epochs = 1)"
   ]
  },
  {
   "cell_type": "code",
   "execution_count": 43,
   "metadata": {},
   "outputs": [
    {
     "name": "stdout",
     "output_type": "stream",
     "text": [
      "torch.Size([1, 1, 10, 10])\n",
      "switched:  torch.Size([1, 1, 10, 10])\n",
      "switched:  torch.Size([1, 1, 10, 10])\n",
      "switched:  torch.Size([1, 1, 10, 10])\n",
      "switched:  torch.Size([1, 1, 10, 10])\n",
      "switched:  torch.Size([1, 1, 10, 10])\n",
      "switched:  torch.Size([1, 1, 10, 10])\n",
      "switched:  torch.Size([1, 1, 10, 10])\n",
      "switched:  torch.Size([1, 1, 10, 10])\n",
      "epoch:  0\n",
      "loss:  0.03061349472651879\n"
     ]
    }
   ],
   "source": [
    "tr,pr = test_model_force_feed_out(model, test_loader, criterion, epochs = 1) \n",
    "#in this mode, model is fed only one frame in the beginning of test data\n",
    "#the model then predicts the next sequence(s) by feeding back its own outputs as inputs at the end of a prediction"
   ]
  },
  {
   "cell_type": "code",
   "execution_count": 44,
   "metadata": {},
   "outputs": [],
   "source": [
    "import sklearn.preprocessing as scaler"
   ]
  },
  {
   "cell_type": "code",
   "execution_count": 45,
   "metadata": {},
   "outputs": [
    {
     "name": "stdout",
     "output_type": "stream",
     "text": [
      "(9, 10, 10) (9, 10, 10)\n"
     ]
    }
   ],
   "source": [
    "tr_np = np.array(tr)\n",
    "pr_np = np.array(pr)\n",
    "print(tr_np.shape, pr_np.shape)"
   ]
  },
  {
   "cell_type": "code",
   "execution_count": 46,
   "metadata": {},
   "outputs": [],
   "source": [
    "#convert normalized info (0 - 1) to (0 - 255)\n",
    "for data in range(len(tr_np)):\n",
    "    norm_ = scaler.minmax_scale(tr_np[data],feature_range=(0,255))\n",
    "    tr_np[data] = norm_"
   ]
  },
  {
   "cell_type": "code",
   "execution_count": 47,
   "metadata": {},
   "outputs": [],
   "source": [
    "#convert normalized info (0 - 1) to (0 - 255)\n",
    "for data in range(len(pr_np)):\n",
    "    norm_ = scaler.minmax_scale(pr_np[data],feature_range=(0,255))\n",
    "    pr_np[data] = norm_"
   ]
  },
  {
   "cell_type": "code",
   "execution_count": 48,
   "metadata": {},
   "outputs": [],
   "source": [
    "#tr_np = np.expand_dims(tr_np, axis=1) # expand dims for gif - Image sequence clip\n",
    "#pr_np = np.expand_dims(pr_np, axis=1) #expand dims for gif - Image sequence clip\n",
    "#print(tr_np.shape, pr_np.shape)"
   ]
  },
  {
   "cell_type": "code",
   "execution_count": 49,
   "metadata": {},
   "outputs": [],
   "source": [
    "#tr_np = tr_np.transpose(0,2,3,1) #transpose in this order -Image sequence clip likes it this way\n",
    "#pr_np = pr_np.transpose(0,2,3,1) #transpose in this order -Image sequence clip likes it this way\n",
    "#print(tr_np.shape, pr_np.shape)"
   ]
  },
  {
   "cell_type": "code",
   "execution_count": 50,
   "metadata": {},
   "outputs": [],
   "source": [
    "#from moviepy.editor import ImageSequenceClip\n",
    "#clip = ImageSequenceClip(list(tr_np), fps=3)\n",
    "#clip.write_gif('true_data.gif', fps=3)"
   ]
  },
  {
   "cell_type": "code",
   "execution_count": 51,
   "metadata": {},
   "outputs": [],
   "source": [
    "#from moviepy.editor import ImageSequenceClip\n",
    "#clip = ImageSequenceClip(list(pr_np), fps=3)\n",
    "#clip.resize((200, 200))\n",
    "#clip.write_gif('preicted_data.gif', fps=3)"
   ]
  },
  {
   "cell_type": "code",
   "execution_count": 52,
   "metadata": {},
   "outputs": [],
   "source": [
    "#from IPython.display import display, Image\n",
    "#Image('preicted_data.gif')"
   ]
  },
  {
   "cell_type": "code",
   "execution_count": 53,
   "metadata": {},
   "outputs": [],
   "source": [
    "import matplotlib.pyplot as plt\n",
    "from matplotlib.pyplot import imshow\n",
    "%matplotlib inline"
   ]
  },
  {
   "cell_type": "code",
   "execution_count": 54,
   "metadata": {},
   "outputs": [
    {
     "data": {
      "image/png": "[encoded data removed]",
      "text/plain": [
       "<Figure size 432x288 with 1 Axes>"
      ]
     },
     "metadata": {
      "needs_background": "light"
     },
     "output_type": "display_data"
    },
    {
     "data": {
      "image/png": "[encoded data removed]",
      "text/plain": [
       "<Figure size 432x288 with 1 Axes>"
      ]
     },
     "metadata": {
      "needs_background": "light"
     },
     "output_type": "display_data"
    },
    {
     "data": {
      "image/png": "[encoded data removed]",
      "text/plain": [
       "<Figure size 432x288 with 1 Axes>"
      ]
     },
     "metadata": {
      "needs_background": "light"
     },
     "output_type": "display_data"
    },
    {
     "data": {
      "image/png": "[encoded data removed]",
      "text/plain": [
       "<Figure size 432x288 with 1 Axes>"
      ]
     },
     "metadata": {
      "needs_background": "light"
     },
     "output_type": "display_data"
    },
    {
     "data": {
      "image/png": "[encoded data removed]",
      "text/plain": [
       "<Figure size 432x288 with 1 Axes>"
      ]
     },
     "metadata": {
      "needs_background": "light"
     },
     "output_type": "display_data"
    },
    {
     "data": {
      "image/png": "[encoded data removed]",
      "text/plain": [
       "<Figure size 432x288 with 1 Axes>"
      ]
     },
     "metadata": {
      "needs_background": "light"
     },
     "output_type": "display_data"
    },
    {
     "data": {
      "image/png": "[encoded data removed]",
      "text/plain": [
       "<Figure size 432x288 with 1 Axes>"
      ]
     },
     "metadata": {
      "needs_background": "light"
     },
     "output_type": "display_data"
    },
    {
     "data": {
      "image/png": "[encoded data removed]",
      "text/plain": [
       "<Figure size 432x288 with 1 Axes>"
      ]
     },
     "metadata": {
      "needs_background": "light"
     },
     "output_type": "display_data"
    },
    {
     "data": {
      "image/png": "[encoded data removed]",
      "text/plain": [
       "<Figure size 432x288 with 1 Axes>"
      ]
     },
     "metadata": {
      "needs_background": "light"
     },
     "output_type": "display_data"
    }
   ],
   "source": [
    "# Make an image file for each of the rows\n",
    "filenames = []\n",
    "for x in range(len(pr_np)):\n",
    "    fig, ax = plt.subplots()\n",
    "    ax.imshow(np.squeeze(pr_np[x]), cmap=\"gray\")\n",
    "    ax.axis(\"off\")\n",
    "    filename = 'predictions-forced/'+str(x)+\".png\"\n",
    "    plt.savefig(filename)\n",
    "    filenames.append(filename)"
   ]
  },
  {
   "cell_type": "code",
   "execution_count": 55,
   "metadata": {},
   "outputs": [],
   "source": [
    "# Make the gif\n",
    "filename = 'predictions-forced'\n",
    "number_of_frames = 2\n",
    "import imageio\n",
    "with imageio.get_writer('predictions-forced/predictions-forced.gif', mode='I') as writer:\n",
    "    for filename in filenames:\n",
    "        image = imageio.imread(filename)\n",
    "        for x in range(number_of_frames):\n",
    "            writer.append_data(image)"
   ]
  },
  {
   "cell_type": "code",
   "execution_count": 56,
   "metadata": {},
   "outputs": [
    {
     "data": {
      "image/png": "[encoded data removed]",
      "text/plain": [
       "<Figure size 432x288 with 1 Axes>"
      ]
     },
     "metadata": {
      "needs_background": "light"
     },
     "output_type": "display_data"
    },
    {
     "data": {
      "image/png": "[encoded data removed]",
      "text/plain": [
       "<Figure size 432x288 with 1 Axes>"
      ]
     },
     "metadata": {
      "needs_background": "light"
     },
     "output_type": "display_data"
    },
    {
     "data": {
      "image/png": "[encoded data removed]",
      "text/plain": [
       "<Figure size 432x288 with 1 Axes>"
      ]
     },
     "metadata": {
      "needs_background": "light"
     },
     "output_type": "display_data"
    },
    {
     "data": {
      "image/png": "[encoded data removed]",
      "text/plain": [
       "<Figure size 432x288 with 1 Axes>"
      ]
     },
     "metadata": {
      "needs_background": "light"
     },
     "output_type": "display_data"
    },
    {
     "data": {
      "image/png": "[encoded data removed]",
      "text/plain": [
       "<Figure size 432x288 with 1 Axes>"
      ]
     },
     "metadata": {
      "needs_background": "light"
     },
     "output_type": "display_data"
    },
    {
     "data": {
      "image/png": "[encoded data removed]",
      "text/plain": [
       "<Figure size 432x288 with 1 Axes>"
      ]
     },
     "metadata": {
      "needs_background": "light"
     },
     "output_type": "display_data"
    },
    {
     "data": {
      "image/png": "[encoded data removed]",
      "text/plain": [
       "<Figure size 432x288 with 1 Axes>"
      ]
     },
     "metadata": {
      "needs_background": "light"
     },
     "output_type": "display_data"
    },
    {
     "data": {
      "image/png": "[encoded data removed]",
      "text/plain": [
       "<Figure size 432x288 with 1 Axes>"
      ]
     },
     "metadata": {
      "needs_background": "light"
     },
     "output_type": "display_data"
    },
    {
     "data": {
      "image/png": "[encoded data removed]",
      "text/plain": [
       "<Figure size 432x288 with 1 Axes>"
      ]
     },
     "metadata": {
      "needs_background": "light"
     },
     "output_type": "display_data"
    }
   ],
   "source": [
    "# Make an image file for each of the rows\n",
    "filenames = []\n",
    "for x in range(len(tr_np)):\n",
    "    fig, ax = plt.subplots()\n",
    "    ax.imshow(np.squeeze(tr_np[x]), cmap=\"gray\")\n",
    "    ax.axis(\"off\")\n",
    "    filename = 'true-predictions/'+str(x)+\".png\"\n",
    "    plt.savefig(filename)\n",
    "    filenames.append(filename)"
   ]
  },
  {
   "cell_type": "code",
   "execution_count": 57,
   "metadata": {},
   "outputs": [],
   "source": [
    "# Make the gif\n",
    "filename = 'true-predictions'\n",
    "number_of_frames = 2\n",
    "import imageio\n",
    "with imageio.get_writer('true-predictions/truth.gif', mode='I') as writer:\n",
    "    for filename in filenames:\n",
    "        image = imageio.imread(filename)\n",
    "        for x in range(number_of_frames):\n",
    "            writer.append_data(image)"
   ]
  },
  {
   "cell_type": "code",
   "execution_count": null,
   "metadata": {},
   "outputs": [],
   "source": []
  },
  {
   "cell_type": "code",
   "execution_count": null,
   "metadata": {},
   "outputs": [],
   "source": []
  },
  {
   "cell_type": "code",
   "execution_count": null,
   "metadata": {},
   "outputs": [],
   "source": []
  }
 ],
 "metadata": {
  "kernelspec": {
   "display_name": "Python 3",
   "language": "python",
   "name": "python3"
  },
  "language_info": {
   "codemirror_mode": {
    "name": "ipython",
    "version": 3
   },
   "file_extension": ".py",
   "mimetype": "text/x-python",
   "name": "python",
   "nbconvert_exporter": "python",
   "pygments_lexer": "ipython3",
   "version": "3.7.9"
  }
 },
 "nbformat": 4,
 "nbformat_minor": 4
}
