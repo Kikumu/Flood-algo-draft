{
 "cells": [
  {
   "cell_type": "code",
   "execution_count": 203,
   "id": "e084cae2",
   "metadata": {},
   "outputs": [],
   "source": [
    "#I want to put  csv file in form of separate 2d numpy arrays\n",
    "#How?.....\n",
    "#The arduino gets a reading of each sensor every 3 seconds.(Confirm with devs)\n",
    "# there are 8 sensors per arduino(i think)\n",
    "# so..8*3 = 24\n",
    "# so every 24 seconds, separate csv\n",
    "#grid (estimated is 6 by 10)\n",
    "#current total: "
   ]
  },
  {
   "cell_type": "code",
   "execution_count": 204,
   "id": "a7febd00",
   "metadata": {},
   "outputs": [],
   "source": [
    "import numpy as np\n",
    "import pandas as pd"
   ]
  },
  {
   "cell_type": "code",
   "execution_count": 3,
   "id": "2aa93385",
   "metadata": {},
   "outputs": [],
   "source": [
    "Sensor_data_df = pd.read_csv(\"SensorData_trial.csv\") # load csv file"
   ]
  },
  {
   "cell_type": "code",
   "execution_count": 4,
   "id": "8ed58d33",
   "metadata": {},
   "outputs": [
    {
     "data": {
      "text/html": [
       "<div>\n",
       "<style scoped>\n",
       "    .dataframe tbody tr th:only-of-type {\n",
       "        vertical-align: middle;\n",
       "    }\n",
       "\n",
       "    .dataframe tbody tr th {\n",
       "        vertical-align: top;\n",
       "    }\n",
       "\n",
       "    .dataframe thead th {\n",
       "        text-align: right;\n",
       "    }\n",
       "</style>\n",
       "<table border=\"1\" class=\"dataframe\">\n",
       "  <thead>\n",
       "    <tr style=\"text-align: right;\">\n",
       "      <th></th>\n",
       "      <th>Location</th>\n",
       "      <th>Date</th>\n",
       "      <th>Time</th>\n",
       "      <th>Sensor Type</th>\n",
       "      <th>Reading</th>\n",
       "      <th></th>\n",
       "    </tr>\n",
       "  </thead>\n",
       "  <tbody>\n",
       "    <tr>\n",
       "      <th>0</th>\n",
       "      <td>I2</td>\n",
       "      <td>10/21/2021 12:00:00 AM</td>\n",
       "      <td>14:11:15</td>\n",
       "      <td>Water Level</td>\n",
       "      <td>237</td>\n",
       "      <td></td>\n",
       "    </tr>\n",
       "    <tr>\n",
       "      <th>1</th>\n",
       "      <td>I2</td>\n",
       "      <td>10/21/2021 12:00:00 AM</td>\n",
       "      <td>14:11:35</td>\n",
       "      <td>Water Level</td>\n",
       "      <td>219</td>\n",
       "      <td></td>\n",
       "    </tr>\n",
       "    <tr>\n",
       "      <th>2</th>\n",
       "      <td>I2</td>\n",
       "      <td>10/21/2021 12:00:00 AM</td>\n",
       "      <td>14:11:56</td>\n",
       "      <td>Water Level</td>\n",
       "      <td>225</td>\n",
       "      <td></td>\n",
       "    </tr>\n",
       "    <tr>\n",
       "      <th>3</th>\n",
       "      <td>I2</td>\n",
       "      <td>10/21/2021 12:00:00 AM</td>\n",
       "      <td>14:12:17</td>\n",
       "      <td>Water Level</td>\n",
       "      <td>226</td>\n",
       "      <td></td>\n",
       "    </tr>\n",
       "    <tr>\n",
       "      <th>4</th>\n",
       "      <td>I2</td>\n",
       "      <td>10/21/2021 12:00:00 AM</td>\n",
       "      <td>14:12:37</td>\n",
       "      <td>Water Level</td>\n",
       "      <td>220</td>\n",
       "      <td></td>\n",
       "    </tr>\n",
       "    <tr>\n",
       "      <th>...</th>\n",
       "      <td>...</td>\n",
       "      <td>...</td>\n",
       "      <td>...</td>\n",
       "      <td>...</td>\n",
       "      <td>...</td>\n",
       "      <td>...</td>\n",
       "    </tr>\n",
       "    <tr>\n",
       "      <th>5315</th>\n",
       "      <td>F2</td>\n",
       "      <td>10/21/2021 12:00:00 AM</td>\n",
       "      <td>14:37:21</td>\n",
       "      <td>Water Level</td>\n",
       "      <td>27</td>\n",
       "      <td></td>\n",
       "    </tr>\n",
       "    <tr>\n",
       "      <th>5316</th>\n",
       "      <td>F2</td>\n",
       "      <td>10/21/2021 12:00:00 AM</td>\n",
       "      <td>14:37:43</td>\n",
       "      <td>Water Level</td>\n",
       "      <td>28</td>\n",
       "      <td></td>\n",
       "    </tr>\n",
       "    <tr>\n",
       "      <th>5317</th>\n",
       "      <td>F2</td>\n",
       "      <td>10/21/2021 12:00:00 AM</td>\n",
       "      <td>14:38:04</td>\n",
       "      <td>Water Level</td>\n",
       "      <td>27</td>\n",
       "      <td></td>\n",
       "    </tr>\n",
       "    <tr>\n",
       "      <th>5318</th>\n",
       "      <td>F2</td>\n",
       "      <td>10/21/2021 12:00:00 AM</td>\n",
       "      <td>14:38:25</td>\n",
       "      <td>Water Level</td>\n",
       "      <td>28</td>\n",
       "      <td></td>\n",
       "    </tr>\n",
       "    <tr>\n",
       "      <th>5319</th>\n",
       "      <td>F2</td>\n",
       "      <td>10/21/2021 12:00:00 AM</td>\n",
       "      <td>14:38:46</td>\n",
       "      <td>Water Level</td>\n",
       "      <td>22</td>\n",
       "      <td></td>\n",
       "    </tr>\n",
       "  </tbody>\n",
       "</table>\n",
       "<p>5320 rows × 6 columns</p>\n",
       "</div>"
      ],
      "text/plain": [
       "     Location                     Date       Time   Sensor Type   Reading   \n",
       "0          I2   10/21/2021 12:00:00 AM   14:11:15   Water Level       237   \n",
       "1          I2   10/21/2021 12:00:00 AM   14:11:35   Water Level       219   \n",
       "2          I2   10/21/2021 12:00:00 AM   14:11:56   Water Level       225   \n",
       "3          I2   10/21/2021 12:00:00 AM   14:12:17   Water Level       226   \n",
       "4          I2   10/21/2021 12:00:00 AM   14:12:37   Water Level       220   \n",
       "...       ...                      ...        ...           ...       ... ..\n",
       "5315       F2   10/21/2021 12:00:00 AM   14:37:21   Water Level        27   \n",
       "5316       F2   10/21/2021 12:00:00 AM   14:37:43   Water Level        28   \n",
       "5317       F2   10/21/2021 12:00:00 AM   14:38:04   Water Level        27   \n",
       "5318       F2   10/21/2021 12:00:00 AM   14:38:25   Water Level        28   \n",
       "5319       F2   10/21/2021 12:00:00 AM   14:38:46   Water Level        22   \n",
       "\n",
       "[5320 rows x 6 columns]"
      ]
     },
     "execution_count": 4,
     "metadata": {},
     "output_type": "execute_result"
    }
   ],
   "source": [
    "Sensor_data_df # print df"
   ]
  },
  {
   "cell_type": "code",
   "execution_count": 5,
   "id": "1f3ddce1",
   "metadata": {},
   "outputs": [
    {
     "name": "stdout",
     "output_type": "stream",
     "text": [
      "Number of sensors:  64\n",
      "Sensor array:  ['I2' 'J2' 'G1' 'H1' 'I1' 'J1' 'G2' 'H2' 'D9' 'A10' 'B10' 'C10' 'D10' 'A9'\n",
      " 'B9' 'C9' 'C1' 'D1' 'A2' 'B2' 'C2' 'D2' 'A1' 'B1' 'F8' 'F9' 'F10' 'E7'\n",
      " 'E8' 'E9' 'E10' 'F7' 'A5' 'B5' 'C5' 'D5' 'A6' 'B6' 'C6' 'D6' 'B3' 'C3'\n",
      " 'D3' 'A4' 'B4' 'C4' 'D4' 'A3' 'C8' 'D8' 'A7' 'B7' 'C7' 'D7' 'A8' 'B8'\n",
      " 'F3' 'F4' 'E1' 'E2' 'E3' 'E4' 'F1' 'F2']\n"
     ]
    }
   ],
   "source": [
    "Sensor_ids = Sensor_data_df.Location.unique() # get unique values in Location(Sensor IDS)\n",
    "print(\"Number of sensors: \",len(Sensor_ids))\n",
    "print(\"Sensor array: \", Sensor_ids)"
   ]
  },
  {
   "cell_type": "code",
   "execution_count": 6,
   "id": "ca43fa3d",
   "metadata": {},
   "outputs": [],
   "source": [
    "Start_row = Sensor_data_df.iloc[0]#get first time value in df\n",
    "End_row = Sensor_data_df.iloc[-1] #get last time value in df\n",
    "Start_time = Start_row[2] # Save start time obj\n",
    "End_time = End_row[2] # Save end time obj"
   ]
  },
  {
   "cell_type": "code",
   "execution_count": 7,
   "id": "a30a5518",
   "metadata": {},
   "outputs": [
    {
     "name": "stdout",
     "output_type": "stream",
     "text": [
      "Start time for curr_csv:   14:11:15\n",
      "End time for curr_csv:   14:38:46\n"
     ]
    }
   ],
   "source": [
    "print(\"Start time for curr_csv: \", Start_time)\n",
    "print(\"End time for curr_csv: \", End_time)"
   ]
  },
  {
   "cell_type": "code",
   "execution_count": 8,
   "id": "d1af4564",
   "metadata": {},
   "outputs": [],
   "source": [
    "#convert string to date-time and subtract end -start to get estimate of how many \"frames\" there should be\n",
    "from datetime import datetime, date"
   ]
  },
  {
   "cell_type": "code",
   "execution_count": 9,
   "id": "8638051e",
   "metadata": {},
   "outputs": [],
   "source": [
    "#remove space in string first\n",
    "Start_time = Start_time.replace(\" \", \"\")\n",
    "End_time = End_time.replace(\" \", \"\")"
   ]
  },
  {
   "cell_type": "code",
   "execution_count": 10,
   "id": "01cdb01c",
   "metadata": {},
   "outputs": [],
   "source": [
    "time = datetime.strptime(Start_time, '%H:%M:%S').time() #start time converted to date time object\n",
    "time1 = datetime.strptime(End_time, '%H:%M:%S').time()  #end time converted to date time object"
   ]
  },
  {
   "cell_type": "code",
   "execution_count": 11,
   "id": "ce9b6847",
   "metadata": {},
   "outputs": [
    {
     "name": "stdout",
     "output_type": "stream",
     "text": [
      "Total time (hrs:mins:secs) for data to be generated:  0:27:31\n"
     ]
    }
   ],
   "source": [
    "datetime_obj = datetime.combine(date.today(), time1) - datetime.combine(date.today(), time)\n",
    "print(\"Total time (hrs:mins:secs) for data to be generated: \",datetime_obj )"
   ]
  },
  {
   "cell_type": "code",
   "execution_count": 12,
   "id": "a860c403",
   "metadata": {},
   "outputs": [],
   "source": [
    "# 27 mins worth of data. im therefore expecting x frames from data set\n",
    "# first step though is to see if i can split dataframe using date time\n",
    "\n",
    "#current issue: datetime obj is in the form of timedelta while start and end is in the form of datatime\n",
    "#we need to convert both into timedelta for the next step"
   ]
  },
  {
   "cell_type": "code",
   "execution_count": 13,
   "id": "b726d173",
   "metadata": {},
   "outputs": [],
   "source": [
    "def convert_datetime_to_timedelta(datetime_obj):\n",
    "    return datetime.combine(date.min, datetime_obj) - datetime.min"
   ]
  },
  {
   "cell_type": "code",
   "execution_count": 14,
   "id": "4c565c80",
   "metadata": {},
   "outputs": [
    {
     "name": "stdout",
     "output_type": "stream",
     "text": [
      "True\n"
     ]
    }
   ],
   "source": [
    "if convert_datetime_to_timedelta(datetime.strptime(\"0:27:31\", '%H:%M:%S').time()) == datetime_obj:\n",
    "    print(\"True\")#this funtion just tests if string obtained from df can be equated to a start-end"
   ]
  },
  {
   "cell_type": "code",
   "execution_count": 15,
   "id": "16413d3c",
   "metadata": {},
   "outputs": [],
   "source": [
    "# step 1, convert each string in Time to a datetime object wih format '%H:%M:%S'\n",
    "# issue: space - remove whitespace first(done)"
   ]
  },
  {
   "cell_type": "code",
   "execution_count": 16,
   "id": "4a6ba011",
   "metadata": {},
   "outputs": [],
   "source": [
    "#force update on pandas series\n",
    "Time_data = Sensor_data_df[\" Time\"]# using df.time doest work because theres a white space for some reason\n",
    "for x in range(len(Time_data)): \n",
    "    val_ = Time_data[x].replace(\" \", \"\")#remove white space\n",
    "    val_ = datetime.strptime(val_, '%H:%M:%S').time()#change to date time\n",
    "    Time_data.update({x: val_})# update series"
   ]
  },
  {
   "cell_type": "code",
   "execution_count": 17,
   "id": "8f3f4240",
   "metadata": {},
   "outputs": [
    {
     "data": {
      "text/plain": [
       "datetime.time(14, 11, 15)"
      ]
     },
     "execution_count": 17,
     "metadata": {},
     "output_type": "execute_result"
    }
   ],
   "source": [
    "#series updated. next step, replace current updateed series with old one \n",
    "Time_data[0]"
   ]
  },
  {
   "cell_type": "code",
   "execution_count": 18,
   "id": "af982ccb",
   "metadata": {},
   "outputs": [],
   "source": [
    "Sensor_data_df[\" Time\"] = Time_data# update dataframe from obj to datetime"
   ]
  },
  {
   "cell_type": "code",
   "execution_count": 19,
   "id": "b943bf30",
   "metadata": {},
   "outputs": [
    {
     "data": {
      "text/html": [
       "<div>\n",
       "<style scoped>\n",
       "    .dataframe tbody tr th:only-of-type {\n",
       "        vertical-align: middle;\n",
       "    }\n",
       "\n",
       "    .dataframe tbody tr th {\n",
       "        vertical-align: top;\n",
       "    }\n",
       "\n",
       "    .dataframe thead th {\n",
       "        text-align: right;\n",
       "    }\n",
       "</style>\n",
       "<table border=\"1\" class=\"dataframe\">\n",
       "  <thead>\n",
       "    <tr style=\"text-align: right;\">\n",
       "      <th></th>\n",
       "      <th>Location</th>\n",
       "      <th>Date</th>\n",
       "      <th>Time</th>\n",
       "      <th>Sensor Type</th>\n",
       "      <th>Reading</th>\n",
       "      <th></th>\n",
       "    </tr>\n",
       "  </thead>\n",
       "  <tbody>\n",
       "    <tr>\n",
       "      <th>0</th>\n",
       "      <td>I2</td>\n",
       "      <td>10/21/2021 12:00:00 AM</td>\n",
       "      <td>14:11:15</td>\n",
       "      <td>Water Level</td>\n",
       "      <td>237</td>\n",
       "      <td></td>\n",
       "    </tr>\n",
       "    <tr>\n",
       "      <th>1524</th>\n",
       "      <td>C1</td>\n",
       "      <td>10/21/2021 12:00:00 AM</td>\n",
       "      <td>14:11:15</td>\n",
       "      <td>Water Level</td>\n",
       "      <td>4</td>\n",
       "      <td></td>\n",
       "    </tr>\n",
       "    <tr>\n",
       "      <th>766</th>\n",
       "      <td>D9</td>\n",
       "      <td>10/21/2021 12:00:00 AM</td>\n",
       "      <td>14:11:15</td>\n",
       "      <td>Water Level</td>\n",
       "      <td>76</td>\n",
       "      <td></td>\n",
       "    </tr>\n",
       "    <tr>\n",
       "      <th>2251</th>\n",
       "      <td>F8</td>\n",
       "      <td>10/21/2021 12:00:00 AM</td>\n",
       "      <td>14:11:16</td>\n",
       "      <td>Water Level</td>\n",
       "      <td>23</td>\n",
       "      <td></td>\n",
       "    </tr>\n",
       "    <tr>\n",
       "      <th>3375</th>\n",
       "      <td>B3</td>\n",
       "      <td>10/21/2021 12:00:00 AM</td>\n",
       "      <td>14:11:16</td>\n",
       "      <td>Water Level</td>\n",
       "      <td>83</td>\n",
       "      <td></td>\n",
       "    </tr>\n",
       "    <tr>\n",
       "      <th>...</th>\n",
       "      <td>...</td>\n",
       "      <td>...</td>\n",
       "      <td>...</td>\n",
       "      <td>...</td>\n",
       "      <td>...</td>\n",
       "      <td>...</td>\n",
       "    </tr>\n",
       "    <tr>\n",
       "      <th>95</th>\n",
       "      <td>I2</td>\n",
       "      <td>10/21/2021 12:00:00 AM</td>\n",
       "      <td>14:44:43</td>\n",
       "      <td>Water Level</td>\n",
       "      <td>225</td>\n",
       "      <td></td>\n",
       "    </tr>\n",
       "    <tr>\n",
       "      <th>191</th>\n",
       "      <td>J2</td>\n",
       "      <td>10/21/2021 12:00:00 AM</td>\n",
       "      <td>14:44:46</td>\n",
       "      <td>Water Level</td>\n",
       "      <td>0</td>\n",
       "      <td></td>\n",
       "    </tr>\n",
       "    <tr>\n",
       "      <th>287</th>\n",
       "      <td>G1</td>\n",
       "      <td>10/21/2021 12:00:00 AM</td>\n",
       "      <td>14:44:48</td>\n",
       "      <td>Water Level</td>\n",
       "      <td>10</td>\n",
       "      <td></td>\n",
       "    </tr>\n",
       "    <tr>\n",
       "      <th>383</th>\n",
       "      <td>H1</td>\n",
       "      <td>10/21/2021 12:00:00 AM</td>\n",
       "      <td>14:44:51</td>\n",
       "      <td>Water Level</td>\n",
       "      <td>2</td>\n",
       "      <td></td>\n",
       "    </tr>\n",
       "    <tr>\n",
       "      <th>479</th>\n",
       "      <td>I1</td>\n",
       "      <td>10/21/2021 12:00:00 AM</td>\n",
       "      <td>14:44:54</td>\n",
       "      <td>Water Level</td>\n",
       "      <td>0</td>\n",
       "      <td></td>\n",
       "    </tr>\n",
       "  </tbody>\n",
       "</table>\n",
       "<p>5320 rows × 6 columns</p>\n",
       "</div>"
      ],
      "text/plain": [
       "     Location                     Date      Time   Sensor Type   Reading   \n",
       "0          I2   10/21/2021 12:00:00 AM  14:11:15   Water Level       237   \n",
       "1524       C1   10/21/2021 12:00:00 AM  14:11:15   Water Level         4   \n",
       "766        D9   10/21/2021 12:00:00 AM  14:11:15   Water Level        76   \n",
       "2251       F8   10/21/2021 12:00:00 AM  14:11:16   Water Level        23   \n",
       "3375       B3   10/21/2021 12:00:00 AM  14:11:16   Water Level        83   \n",
       "...       ...                      ...       ...           ...       ... ..\n",
       "95         I2   10/21/2021 12:00:00 AM  14:44:43   Water Level       225   \n",
       "191        J2   10/21/2021 12:00:00 AM  14:44:46   Water Level         0   \n",
       "287        G1   10/21/2021 12:00:00 AM  14:44:48   Water Level        10   \n",
       "383        H1   10/21/2021 12:00:00 AM  14:44:51   Water Level         2   \n",
       "479        I1   10/21/2021 12:00:00 AM  14:44:54   Water Level         0   \n",
       "\n",
       "[5320 rows x 6 columns]"
      ]
     },
     "execution_count": 19,
     "metadata": {},
     "output_type": "execute_result"
    }
   ],
   "source": [
    "#sort dataframe first\n",
    "Sensor_data_df = Sensor_data_df.sort_values(by=[\" Time\"])#sort by time. if you sort by any other value things will get weird\n",
    "Sensor_data_df"
   ]
  },
  {
   "cell_type": "code",
   "execution_count": 20,
   "id": "c9e15ead",
   "metadata": {},
   "outputs": [],
   "source": [
    "#split dataframe according to \"frames\"\n",
    "# according to devs(see first cell), split df every 24 secs\n",
    "#we need to loop through others while keeping track of time passed.\n",
    "#if enough time has passed(while appending rows), set new start point and continue process"
   ]
  },
  {
   "cell_type": "code",
   "execution_count": 21,
   "id": "1ed6fcff",
   "metadata": {},
   "outputs": [],
   "source": [
    "Start = True #set start point\n",
    "End = False\n",
    "temp_array = []\n",
    "temp = []\n",
    "frame = 0\n",
    "for index, row in Sensor_data_df.iterrows():\n",
    "    if Start == True:\n",
    "        temp_array.append(temp)\n",
    "        temp = []\n",
    "        start_time = row[\" Time\"]#get start time\n",
    "        Start = False#set condition to false\n",
    "    #every 24 seconds, set a new start time, if end - start = 24\n",
    "    if datetime.combine(date.today(), row[\" Time\"]) - datetime.combine(date.today(), start_time) > convert_datetime_to_timedelta(datetime.strptime(\"0:00:24\", '%H:%M:%S').time()):\n",
    "        Start = True\n",
    "        frame+=1\n",
    "    temp.append(row)\n",
    "    #print(\"Time passed: \", datetime.combine(date.today(), row[\" Time\"]) - datetime.combine(date.today(), start_time))\n",
    "    #print(frame)"
   ]
  },
  {
   "cell_type": "code",
   "execution_count": 22,
   "id": "bfcc090a",
   "metadata": {},
   "outputs": [
    {
     "name": "stdout",
     "output_type": "stream",
     "text": [
      "number of frames:  79\n"
     ]
    }
   ],
   "source": [
    "print(\"number of frames: \", len(temp_array))"
   ]
  },
  {
   "cell_type": "code",
   "execution_count": 23,
   "id": "99cc99e5",
   "metadata": {},
   "outputs": [
    {
     "name": "stdout",
     "output_type": "stream",
     "text": [
      "Sensors per frame = 0\n",
      "Sensors per frame = 79\n",
      "Sensors per frame = 69\n",
      "Sensors per frame = 73\n",
      "Sensors per frame = 77\n",
      "Sensors per frame = 78\n",
      "Sensors per frame = 78\n",
      "Sensors per frame = 74\n",
      "Sensors per frame = 80\n",
      "Sensors per frame = 78\n",
      "Sensors per frame = 78\n",
      "Sensors per frame = 78\n",
      "Sensors per frame = 76\n",
      "Sensors per frame = 78\n",
      "Sensors per frame = 79\n",
      "Sensors per frame = 74\n",
      "Sensors per frame = 78\n",
      "Sensors per frame = 76\n",
      "Sensors per frame = 78\n",
      "Sensors per frame = 77\n",
      "Sensors per frame = 76\n",
      "Sensors per frame = 75\n",
      "Sensors per frame = 74\n",
      "Sensors per frame = 77\n",
      "Sensors per frame = 75\n",
      "Sensors per frame = 78\n",
      "Sensors per frame = 77\n",
      "Sensors per frame = 74\n",
      "Sensors per frame = 78\n",
      "Sensors per frame = 76\n",
      "Sensors per frame = 76\n",
      "Sensors per frame = 75\n",
      "Sensors per frame = 73\n",
      "Sensors per frame = 77\n",
      "Sensors per frame = 77\n",
      "Sensors per frame = 77\n",
      "Sensors per frame = 76\n",
      "Sensors per frame = 77\n",
      "Sensors per frame = 76\n",
      "Sensors per frame = 76\n",
      "Sensors per frame = 75\n",
      "Sensors per frame = 77\n",
      "Sensors per frame = 68\n",
      "Sensors per frame = 62\n",
      "Sensors per frame = 58\n",
      "Sensors per frame = 62\n",
      "Sensors per frame = 61\n",
      "Sensors per frame = 62\n",
      "Sensors per frame = 65\n",
      "Sensors per frame = 76\n",
      "Sensors per frame = 71\n",
      "Sensors per frame = 65\n",
      "Sensors per frame = 65\n",
      "Sensors per frame = 58\n",
      "Sensors per frame = 66\n",
      "Sensors per frame = 66\n",
      "Sensors per frame = 67\n",
      "Sensors per frame = 66\n",
      "Sensors per frame = 66\n",
      "Sensors per frame = 68\n",
      "Sensors per frame = 65\n",
      "Sensors per frame = 67\n",
      "Sensors per frame = 70\n",
      "Sensors per frame = 64\n",
      "Sensors per frame = 58\n",
      "Sensors per frame = 59\n",
      "Sensors per frame = 54\n",
      "Sensors per frame = 49\n",
      "Sensors per frame = 48\n",
      "Sensors per frame = 46\n",
      "Sensors per frame = 48\n",
      "Sensors per frame = 48\n",
      "Sensors per frame = 48\n",
      "Sensors per frame = 48\n",
      "Sensors per frame = 50\n",
      "Sensors per frame = 48\n",
      "Sensors per frame = 47\n",
      "Sensors per frame = 41\n",
      "Sensors per frame = 51\n"
     ]
    }
   ],
   "source": [
    "for i in temp_array:\n",
    "    print(\"Sensors per frame =\", len(i))"
   ]
  },
  {
   "cell_type": "code",
   "execution_count": 36,
   "id": "5b14218f",
   "metadata": {},
   "outputs": [],
   "source": [
    "item_array = []\n",
    "for item in temp_array[1]:\n",
    "    #print(item[0])\n",
    "    item_array.append(item[0])"
   ]
  },
  {
   "cell_type": "code",
   "execution_count": 263,
   "id": "cfbd341e",
   "metadata": {},
   "outputs": [],
   "source": [
    "unique_items = set(item_array)\n",
    "unique_items = list(unique_items)#convert type set to list - difficult to loop through set type for this scenario\n",
    "unique_items.sort()#sort them\n",
    "#unique_items"
   ]
  },
  {
   "cell_type": "code",
   "execution_count": 217,
   "id": "b5537158",
   "metadata": {},
   "outputs": [
    {
     "data": {
      "text/plain": [
       "'10'"
      ]
     },
     "execution_count": 217,
     "metadata": {},
     "output_type": "execute_result"
    }
   ],
   "source": [
    ">>> r = re.compile(\"([a-zA-Z]+)([0-9]+)\")\n",
    ">>> m = r.match(unique_items[1])\n",
    ">>> m.group(1)\n",
    ">>> m.group(2)"
   ]
  },
  {
   "cell_type": "code",
   "execution_count": 235,
   "id": "07e66735",
   "metadata": {},
   "outputs": [],
   "source": [
    "letter = []\n",
    "ints = []\n",
    "r = re.compile(\"([a-zA-Z]+)([0-9]+)\")\n",
    "for value in unique_items:\n",
    "    g = r.match(value)\n",
    "    letter.append(g.group(1))\n",
    "    ints.append(int(g.group(2)))"
   ]
  },
  {
   "cell_type": "code",
   "execution_count": 238,
   "id": "4590c4aa",
   "metadata": {},
   "outputs": [],
   "source": [
    "zipped_lists = zip(letter, ints)\n",
    "sorted_pairs = sorted(zipped_lists)\n",
    "\n",
    "tuples = zip(*sorted_pairs)\n",
    "list1, list2 = [ list(tuple) for tuple in  tuples]"
   ]
  },
  {
   "cell_type": "code",
   "execution_count": 241,
   "id": "ca5de173",
   "metadata": {},
   "outputs": [],
   "source": [
    "for i in range(len(list1)):\n",
    "    list1[i] = list1[i]+str(list2[i])"
   ]
  },
  {
   "cell_type": "code",
   "execution_count": 264,
   "id": "78718e69",
   "metadata": {},
   "outputs": [],
   "source": [
    "unique_items = list1"
   ]
  },
  {
   "cell_type": "code",
   "execution_count": 244,
   "id": "7a151075",
   "metadata": {},
   "outputs": [],
   "source": [
    "# I need to arrange all these into a single 2d array accounting for:\n",
    "# duplicate values\n",
    "# create blank 10 by 10 array first\n",
    "empty_array = np.zeros((10, 10), int)"
   ]
  },
  {
   "cell_type": "code",
   "execution_count": 245,
   "id": "2ed30aa0",
   "metadata": {},
   "outputs": [
    {
     "data": {
      "text/plain": [
       "array([[0, 0, 0, 0, 0, 0, 0, 0, 0, 0],\n",
       "       [0, 0, 0, 0, 0, 0, 0, 0, 0, 0],\n",
       "       [0, 0, 0, 0, 0, 0, 0, 0, 0, 0],\n",
       "       [0, 0, 0, 0, 0, 0, 0, 0, 0, 0],\n",
       "       [0, 0, 0, 0, 0, 0, 0, 0, 0, 0],\n",
       "       [0, 0, 0, 0, 0, 0, 0, 0, 0, 0],\n",
       "       [0, 0, 0, 0, 0, 0, 0, 0, 0, 0],\n",
       "       [0, 0, 0, 0, 0, 0, 0, 0, 0, 0],\n",
       "       [0, 0, 0, 0, 0, 0, 0, 0, 0, 0],\n",
       "       [0, 0, 0, 0, 0, 0, 0, 0, 0, 0]])"
      ]
     },
     "execution_count": 245,
     "metadata": {},
     "output_type": "execute_result"
    }
   ],
   "source": [
    "empty_array"
   ]
  },
  {
   "cell_type": "code",
   "execution_count": 246,
   "id": "8895466c",
   "metadata": {},
   "outputs": [],
   "source": [
    "def convert_to_255_range(empty_array):\n",
    "    return ((empty_array - empty_array.min()) * (1/(empty_array.max() - empty_array.min()) * 255)).astype('uint8')"
   ]
  },
  {
   "cell_type": "code",
   "execution_count": 247,
   "id": "bef229fb",
   "metadata": {},
   "outputs": [
    {
     "data": {
      "text/plain": [
       "array([[0, 0, 0, 0, 0, 0, 0, 0, 0, 0],\n",
       "       [0, 0, 0, 0, 0, 0, 0, 0, 0, 0],\n",
       "       [0, 0, 0, 0, 0, 0, 0, 0, 0, 0],\n",
       "       [0, 0, 0, 0, 0, 0, 0, 0, 0, 0],\n",
       "       [0, 0, 0, 0, 0, 0, 0, 0, 0, 0],\n",
       "       [0, 0, 0, 0, 0, 0, 0, 0, 0, 0],\n",
       "       [0, 0, 0, 0, 0, 0, 0, 0, 0, 0],\n",
       "       [0, 0, 0, 0, 0, 0, 0, 0, 0, 0],\n",
       "       [0, 0, 0, 0, 0, 0, 0, 0, 0, 0],\n",
       "       [0, 0, 0, 0, 0, 0, 0, 0, 0, 0]], dtype=uint8)"
      ]
     },
     "execution_count": 247,
     "metadata": {},
     "output_type": "execute_result"
    }
   ],
   "source": [
    "#loop through array filling values where necessary\n",
    "convert_to_255_range(empty_array)"
   ]
  },
  {
   "cell_type": "code",
   "execution_count": 248,
   "id": "3dcff52d",
   "metadata": {},
   "outputs": [
    {
     "name": "stdout",
     "output_type": "stream",
     "text": [
      "['I2', 'C1', 'D9', 'F8', 'B3', 'A5', 'F3', 'J2', 'A10', 'C8', 'F9', 'D1', 'B5', 'C3', 'D8']\n"
     ]
    }
   ],
   "source": [
    "import collections\n",
    "print([item for item, count in collections.Counter(item_array).items() if count > 1])"
   ]
  },
  {
   "cell_type": "code",
   "execution_count": 249,
   "id": "e02065ab",
   "metadata": {},
   "outputs": [],
   "source": [
    "#next step? arrange received data from each temp array into respective section in 2d array\n",
    "#how? First- i need 2d empty array full of zeros to fill (done)\n",
    "#data (done)"
   ]
  },
  {
   "cell_type": "code",
   "execution_count": 250,
   "id": "4ba58b73",
   "metadata": {},
   "outputs": [
    {
     "name": "stdout",
     "output_type": "stream",
     "text": [
      "64\n"
     ]
    }
   ],
   "source": [
    "sensor_tracker = 0\n",
    "frame = 70\n",
    "c = 0\n",
    "for row in range(len(empty_array[0])):\n",
    "    for col in range(len(empty_array[1])):\n",
    "        #access row col index\n",
    "        #fill necessarily\n",
    "        #row:\n",
    "        #0 = A\n",
    "        #1 = B......\n",
    "        #col:\n",
    "        #0 = 1\n",
    "        #1 = 2....\n",
    "        #eg in this instance, search for all cases of A1 in this frame\n",
    "        #then if there are duplicates, either: average values or pick last\n",
    "        #then store in 2d array\n",
    "        #so...when searching for all cases of A1, get unique list str\n",
    "        #loop/get curr index in unique string\n",
    "        #loop through time frame data either for avg or last\n",
    "        #update 2d array and move on to next\n",
    "        if sensor_tracker < len(unique_items):\n",
    "            #print(\"id: \",sensor_tracker)\n",
    "            sensor_id = unique_items[sensor_tracker]\n",
    "            c +=1\n",
    "        for item in temp_array[frame]:\n",
    "            #if item!=[]:\n",
    "            #print(item[0][0])\n",
    "            #Start_time = Start_time.replace(\" \", \"\")\n",
    "            if item[0].replace(\" \",\"\") == sensor_id.replace(\" \",\"\"):\n",
    "                #update array\n",
    "                empty_array[row,col] = int(item[4])\n",
    "                break\n",
    "        sensor_tracker+=1\n",
    "print(c)"
   ]
  },
  {
   "cell_type": "code",
   "execution_count": 251,
   "id": "7ec8baa2",
   "metadata": {},
   "outputs": [
    {
     "data": {
      "text/plain": [
       "[Location                             I2\n",
       "  Date            10/21/2021 12:00:00 AM\n",
       "  Time                          14:11:15\n",
       "  Sensor Type                Water Level\n",
       "  Reading                            237\n",
       "                                        \n",
       " Name: 0, dtype: object,\n",
       " Location                             C1\n",
       "  Date            10/21/2021 12:00:00 AM\n",
       "  Time                          14:11:15\n",
       "  Sensor Type                Water Level\n",
       "  Reading                              4\n",
       "                                        \n",
       " Name: 1524, dtype: object,\n",
       " Location                             D9\n",
       "  Date            10/21/2021 12:00:00 AM\n",
       "  Time                          14:11:15\n",
       "  Sensor Type                Water Level\n",
       "  Reading                             76\n",
       "                                        \n",
       " Name: 766, dtype: object,\n",
       " Location                             F8\n",
       "  Date            10/21/2021 12:00:00 AM\n",
       "  Time                          14:11:16\n",
       "  Sensor Type                Water Level\n",
       "  Reading                             23\n",
       "                                        \n",
       " Name: 2251, dtype: object,\n",
       " Location                             B3\n",
       "  Date            10/21/2021 12:00:00 AM\n",
       "  Time                          14:11:16\n",
       "  Sensor Type                Water Level\n",
       "  Reading                             83\n",
       "                                        \n",
       " Name: 3375, dtype: object,\n",
       " Location                             A5\n",
       "  Date            10/21/2021 12:00:00 AM\n",
       "  Time                          14:11:16\n",
       "  Sensor Type                Water Level\n",
       "  Reading                              1\n",
       "                                        \n",
       " Name: 2672, dtype: object,\n",
       " Location                             F3\n",
       "  Date            10/21/2021 12:00:00 AM\n",
       "  Time                          14:11:17\n",
       "  Sensor Type                Water Level\n",
       "  Reading                              1\n",
       "                                        \n",
       " Name: 4704, dtype: object,\n",
       " Location                             J2\n",
       "  Date            10/21/2021 12:00:00 AM\n",
       "  Time                          14:11:17\n",
       "  Sensor Type                Water Level\n",
       "  Reading                              6\n",
       "                                        \n",
       " Name: 96, dtype: object,\n",
       " Location                            A10\n",
       "  Date            10/21/2021 12:00:00 AM\n",
       "  Time                          14:11:17\n",
       "  Sensor Type                Water Level\n",
       "  Reading                             25\n",
       "                                        \n",
       " Name: 861, dtype: object,\n",
       " Location                             C8\n",
       "  Date            10/21/2021 12:00:00 AM\n",
       "  Time                          14:11:17\n",
       "  Sensor Type                Water Level\n",
       "  Reading                              1\n",
       "                                        \n",
       " Name: 4108, dtype: object,\n",
       " Location                             F9\n",
       "  Date            10/21/2021 12:00:00 AM\n",
       "  Time                          14:11:18\n",
       "  Sensor Type                Water Level\n",
       "  Reading                            201\n",
       "                                        \n",
       " Name: 2304, dtype: object,\n",
       " Location                             D1\n",
       "  Date            10/21/2021 12:00:00 AM\n",
       "  Time                          14:11:18\n",
       "  Sensor Type                Water Level\n",
       "  Reading                             98\n",
       "                                        \n",
       " Name: 1616, dtype: object,\n",
       " Location                             B5\n",
       "  Date            10/21/2021 12:00:00 AM\n",
       "  Time                          14:11:18\n",
       "  Sensor Type                Water Level\n",
       "  Reading                              7\n",
       "                                        \n",
       " Name: 2760, dtype: object,\n",
       " Location                             C3\n",
       "  Date            10/21/2021 12:00:00 AM\n",
       "  Time                          14:11:18\n",
       "  Sensor Type                Water Level\n",
       "  Reading                              8\n",
       "                                        \n",
       " Name: 3467, dtype: object,\n",
       " Location                             D8\n",
       "  Date            10/21/2021 12:00:00 AM\n",
       "  Time                          14:11:19\n",
       "  Sensor Type                Water Level\n",
       "  Reading                              3\n",
       "                                        \n",
       " Name: 4183, dtype: object,\n",
       " Location                            B10\n",
       "  Date            10/21/2021 12:00:00 AM\n",
       "  Time                          14:11:20\n",
       "  Sensor Type                Water Level\n",
       "  Reading                             28\n",
       "                                        \n",
       " Name: 956, dtype: object,\n",
       " Location                             G1\n",
       "  Date            10/21/2021 12:00:00 AM\n",
       "  Time                          14:11:20\n",
       "  Sensor Type                Water Level\n",
       "  Reading                              2\n",
       "                                        \n",
       " Name: 192, dtype: object,\n",
       " Location                             F4\n",
       "  Date            10/21/2021 12:00:00 AM\n",
       "  Time                          14:11:20\n",
       "  Sensor Type                Water Level\n",
       "  Reading                              3\n",
       "                                        \n",
       " Name: 4781, dtype: object,\n",
       " Location                             A2\n",
       "  Date            10/21/2021 12:00:00 AM\n",
       "  Time                          14:11:20\n",
       "  Sensor Type                Water Level\n",
       "  Reading                             25\n",
       "                                        \n",
       " Name: 1707, dtype: object,\n",
       " Location                             C5\n",
       "  Date            10/21/2021 12:00:00 AM\n",
       "  Time                          14:11:21\n",
       "  Sensor Type                Water Level\n",
       "  Reading                              1\n",
       "                                        \n",
       " Name: 2847, dtype: object,\n",
       " Location                            F10\n",
       "  Date            10/21/2021 12:00:00 AM\n",
       "  Time                          14:11:21\n",
       "  Sensor Type                Water Level\n",
       "  Reading                              0\n",
       "                                        \n",
       " Name: 2356, dtype: object,\n",
       " Location                             D3\n",
       "  Date            10/21/2021 12:00:00 AM\n",
       "  Time                          14:11:21\n",
       "  Sensor Type                Water Level\n",
       "  Reading                            164\n",
       "                                        \n",
       " Name: 3559, dtype: object,\n",
       " Location                             A7\n",
       "  Date            10/21/2021 12:00:00 AM\n",
       "  Time                          14:11:22\n",
       "  Sensor Type                Water Level\n",
       "  Reading                             97\n",
       "                                        \n",
       " Name: 4258, dtype: object,\n",
       " Location                            C10\n",
       "  Date            10/21/2021 12:00:00 AM\n",
       "  Time                          14:11:22\n",
       "  Sensor Type                Water Level\n",
       "  Reading                              2\n",
       "                                        \n",
       " Name: 1051, dtype: object,\n",
       " Location                             E1\n",
       "  Date            10/21/2021 12:00:00 AM\n",
       "  Time                          14:11:22\n",
       "  Sensor Type                Water Level\n",
       "  Reading                             27\n",
       "                                        \n",
       " Name: 4858, dtype: object,\n",
       " Location                             H1\n",
       "  Date            10/21/2021 12:00:00 AM\n",
       "  Time                          14:11:23\n",
       "  Sensor Type                Water Level\n",
       "  Reading                              0\n",
       "                                        \n",
       " Name: 288, dtype: object,\n",
       " Location                             B2\n",
       "  Date            10/21/2021 12:00:00 AM\n",
       "  Time                          14:11:23\n",
       "  Sensor Type                Water Level\n",
       "  Reading                            220\n",
       "                                        \n",
       " Name: 1798, dtype: object,\n",
       " Location                             A4\n",
       "  Date            10/21/2021 12:00:00 AM\n",
       "  Time                          14:11:24\n",
       "  Sensor Type                Water Level\n",
       "  Reading                            155\n",
       "                                        \n",
       " Name: 3651, dtype: object,\n",
       " Location                             D5\n",
       "  Date            10/21/2021 12:00:00 AM\n",
       "  Time                          14:11:24\n",
       "  Sensor Type                Water Level\n",
       "  Reading                              0\n",
       "                                        \n",
       " Name: 2935, dtype: object,\n",
       " Location                             E7\n",
       "  Date            10/21/2021 12:00:00 AM\n",
       "  Time                          14:11:24\n",
       "  Sensor Type                Water Level\n",
       "  Reading                            137\n",
       "                                        \n",
       " Name: 2407, dtype: object,\n",
       " Location                             B7\n",
       "  Date            10/21/2021 12:00:00 AM\n",
       "  Time                          14:11:25\n",
       "  Sensor Type                Water Level\n",
       "  Reading                              3\n",
       "                                        \n",
       " Name: 4333, dtype: object,\n",
       " Location                            D10\n",
       "  Date            10/21/2021 12:00:00 AM\n",
       "  Time                          14:11:25\n",
       "  Sensor Type                Water Level\n",
       "  Reading                             46\n",
       "                                        \n",
       " Name: 1146, dtype: object,\n",
       " Location                             I1\n",
       "  Date            10/21/2021 12:00:00 AM\n",
       "  Time                          14:11:25\n",
       "  Sensor Type                Water Level\n",
       "  Reading                              1\n",
       "                                        \n",
       " Name: 384, dtype: object,\n",
       " Location                             E2\n",
       "  Date            10/21/2021 12:00:00 AM\n",
       "  Time                          14:11:25\n",
       "  Sensor Type                Water Level\n",
       "  Reading                             75\n",
       "                                        \n",
       " Name: 4935, dtype: object,\n",
       " Location                             C2\n",
       "  Date            10/21/2021 12:00:00 AM\n",
       "  Time                          14:11:25\n",
       "  Sensor Type                Water Level\n",
       "  Reading                             48\n",
       "                                        \n",
       " Name: 1889, dtype: object,\n",
       " Location                             B4\n",
       "  Date            10/21/2021 12:00:00 AM\n",
       "  Time                          14:11:26\n",
       "  Sensor Type                Water Level\n",
       "  Reading                             29\n",
       "                                        \n",
       " Name: 3743, dtype: object,\n",
       " Location                             E8\n",
       "  Date            10/21/2021 12:00:00 AM\n",
       "  Time                          14:11:26\n",
       "  Sensor Type                Water Level\n",
       "  Reading                              4\n",
       "                                        \n",
       " Name: 2460, dtype: object,\n",
       " Location                             A6\n",
       "  Date            10/21/2021 12:00:00 AM\n",
       "  Time                          14:11:26\n",
       "  Sensor Type                Water Level\n",
       "  Reading                             22\n",
       "                                        \n",
       " Name: 3023, dtype: object,\n",
       " Location                             C7\n",
       "  Date            10/21/2021 12:00:00 AM\n",
       "  Time                          14:11:27\n",
       "  Sensor Type                Water Level\n",
       "  Reading                              1\n",
       "                                        \n",
       " Name: 4408, dtype: object,\n",
       " Location                             A9\n",
       "  Date            10/21/2021 12:00:00 AM\n",
       "  Time                          14:11:28\n",
       "  Sensor Type                Water Level\n",
       "  Reading                              0\n",
       "                                        \n",
       " Name: 1241, dtype: object,\n",
       " Location                             J1\n",
       "  Date            10/21/2021 12:00:00 AM\n",
       "  Time                          14:11:28\n",
       "  Sensor Type                Water Level\n",
       "  Reading                              2\n",
       "                                        \n",
       " Name: 480, dtype: object,\n",
       " Location                             E3\n",
       "  Date            10/21/2021 12:00:00 AM\n",
       "  Time                          14:11:28\n",
       "  Sensor Type                Water Level\n",
       "  Reading                            224\n",
       "                                        \n",
       " Name: 5012, dtype: object,\n",
       " Location                             D2\n",
       "  Date            10/21/2021 12:00:00 AM\n",
       "  Time                          14:11:28\n",
       "  Sensor Type                Water Level\n",
       "  Reading                            579\n",
       "                                        \n",
       " Name: 1980, dtype: object,\n",
       " Location                             C4\n",
       "  Date            10/21/2021 12:00:00 AM\n",
       "  Time                          14:11:29\n",
       "  Sensor Type                Water Level\n",
       "  Reading                             32\n",
       "                                        \n",
       " Name: 3835, dtype: object,\n",
       " Location                             B6\n",
       "  Date            10/21/2021 12:00:00 AM\n",
       "  Time                          14:11:29\n",
       "  Sensor Type                Water Level\n",
       "  Reading                             24\n",
       "                                        \n",
       " Name: 3111, dtype: object,\n",
       " Location                             E9\n",
       "  Date            10/21/2021 12:00:00 AM\n",
       "  Time                          14:11:29\n",
       "  Sensor Type                Water Level\n",
       "  Reading                              1\n",
       "                                        \n",
       " Name: 2513, dtype: object,\n",
       " Location                             B9\n",
       "  Date            10/21/2021 12:00:00 AM\n",
       "  Time                          14:11:30\n",
       "  Sensor Type                Water Level\n",
       "  Reading                              4\n",
       "                                        \n",
       " Name: 1335, dtype: object,\n",
       " Location                             D7\n",
       "  Date            10/21/2021 12:00:00 AM\n",
       "  Time                          14:11:30\n",
       "  Sensor Type                Water Level\n",
       "  Reading                              0\n",
       "                                        \n",
       " Name: 4482, dtype: object,\n",
       " Location                             G2\n",
       "  Date            10/21/2021 12:00:00 AM\n",
       "  Time                          14:11:30\n",
       "  Sensor Type                Water Level\n",
       "  Reading                             23\n",
       "                                        \n",
       " Name: 576, dtype: object,\n",
       " Location                             E4\n",
       "  Date            10/21/2021 12:00:00 AM\n",
       "  Time                          14:11:30\n",
       "  Sensor Type                Water Level\n",
       "  Reading                             28\n",
       "                                        \n",
       " Name: 5089, dtype: object,\n",
       " Location                            E10\n",
       "  Date            10/21/2021 12:00:00 AM\n",
       "  Time                          14:11:31\n",
       "  Sensor Type                Water Level\n",
       "  Reading                            171\n",
       "                                        \n",
       " Name: 2566, dtype: object,\n",
       " Location                             A1\n",
       "  Date            10/21/2021 12:00:00 AM\n",
       "  Time                          14:11:31\n",
       "  Sensor Type                Water Level\n",
       "  Reading                            108\n",
       "                                        \n",
       " Name: 2071, dtype: object,\n",
       " Location                             C6\n",
       "  Date            10/21/2021 12:00:00 AM\n",
       "  Time                          14:11:31\n",
       "  Sensor Type                Water Level\n",
       "  Reading                              2\n",
       "                                        \n",
       " Name: 3199, dtype: object,\n",
       " Location                             D4\n",
       "  Date            10/21/2021 12:00:00 AM\n",
       "  Time                          14:11:32\n",
       "  Sensor Type                Water Level\n",
       "  Reading                             43\n",
       "                                        \n",
       " Name: 3927, dtype: object,\n",
       " Location                             A8\n",
       "  Date            10/21/2021 12:00:00 AM\n",
       "  Time                          14:11:32\n",
       "  Sensor Type                Water Level\n",
       "  Reading                             49\n",
       "                                        \n",
       " Name: 4556, dtype: object,\n",
       " Location                             C9\n",
       "  Date            10/21/2021 12:00:00 AM\n",
       "  Time                          14:11:33\n",
       "  Sensor Type                Water Level\n",
       "  Reading                              5\n",
       "                                        \n",
       " Name: 1429, dtype: object,\n",
       " Location                             B1\n",
       "  Date            10/21/2021 12:00:00 AM\n",
       "  Time                          14:11:33\n",
       "  Sensor Type                Water Level\n",
       "  Reading                              8\n",
       "                                        \n",
       " Name: 2161, dtype: object,\n",
       " Location                             F1\n",
       "  Date            10/21/2021 12:00:00 AM\n",
       "  Time                          14:11:33\n",
       "  Sensor Type                Water Level\n",
       "  Reading                             30\n",
       "                                        \n",
       " Name: 5166, dtype: object,\n",
       " Location                             H2\n",
       "  Date            10/21/2021 12:00:00 AM\n",
       "  Time                          14:11:33\n",
       "  Sensor Type                Water Level\n",
       "  Reading                              7\n",
       "                                        \n",
       " Name: 671, dtype: object,\n",
       " Location                             F7\n",
       "  Date            10/21/2021 12:00:00 AM\n",
       "  Time                          14:11:34\n",
       "  Sensor Type                Water Level\n",
       "  Reading                            150\n",
       "                                        \n",
       " Name: 2619, dtype: object,\n",
       " Location                             D6\n",
       "  Date            10/21/2021 12:00:00 AM\n",
       "  Time                          14:11:34\n",
       "  Sensor Type                Water Level\n",
       "  Reading                            175\n",
       "                                        \n",
       " Name: 3287, dtype: object,\n",
       " Location                             A3\n",
       "  Date            10/21/2021 12:00:00 AM\n",
       "  Time                          14:11:34\n",
       "  Sensor Type                Water Level\n",
       "  Reading                            155\n",
       "                                        \n",
       " Name: 4018, dtype: object,\n",
       " Location                             F2\n",
       "  Date            10/21/2021 12:00:00 AM\n",
       "  Time                          14:11:35\n",
       "  Sensor Type                Water Level\n",
       "  Reading                             27\n",
       "                                        \n",
       " Name: 5243, dtype: object,\n",
       " Location                             B8\n",
       "  Date            10/21/2021 12:00:00 AM\n",
       "  Time                          14:11:35\n",
       "  Sensor Type                Water Level\n",
       "  Reading                             27\n",
       "                                        \n",
       " Name: 4630, dtype: object,\n",
       " Location                             D9\n",
       "  Date            10/21/2021 12:00:00 AM\n",
       "  Time                          14:11:35\n",
       "  Sensor Type                Water Level\n",
       "  Reading                             70\n",
       "                                        \n",
       " Name: 767, dtype: object,\n",
       " Location                             I2\n",
       "  Date            10/21/2021 12:00:00 AM\n",
       "  Time                          14:11:35\n",
       "  Sensor Type                Water Level\n",
       "  Reading                            219\n",
       "                                        \n",
       " Name: 1, dtype: object,\n",
       " Location                             A5\n",
       "  Date            10/21/2021 12:00:00 AM\n",
       "  Time                          14:11:36\n",
       "  Sensor Type                Water Level\n",
       "  Reading                              1\n",
       "                                        \n",
       " Name: 2673, dtype: object,\n",
       " Location                             C1\n",
       "  Date            10/21/2021 12:00:00 AM\n",
       "  Time                          14:11:36\n",
       "  Sensor Type                Water Level\n",
       "  Reading                              3\n",
       "                                        \n",
       " Name: 1525, dtype: object,\n",
       " Location                             B3\n",
       "  Date            10/21/2021 12:00:00 AM\n",
       "  Time                          14:11:37\n",
       "  Sensor Type                Water Level\n",
       "  Reading                             84\n",
       "                                        \n",
       " Name: 3376, dtype: object,\n",
       " Location                             F8\n",
       "  Date            10/21/2021 12:00:00 AM\n",
       "  Time                          14:11:37\n",
       "  Sensor Type                Water Level\n",
       "  Reading                             25\n",
       "                                        \n",
       " Name: 2252, dtype: object,\n",
       " Location                             D1\n",
       "  Date            10/21/2021 12:00:00 AM\n",
       "  Time                          14:11:38\n",
       "  Sensor Type                Water Level\n",
       "  Reading                             98\n",
       "                                        \n",
       " Name: 1617, dtype: object,\n",
       " Location                             J2\n",
       "  Date            10/21/2021 12:00:00 AM\n",
       "  Time                          14:11:38\n",
       "  Sensor Type                Water Level\n",
       "  Reading                              0\n",
       "                                        \n",
       " Name: 97, dtype: object,\n",
       " Location                             F3\n",
       "  Date            10/21/2021 12:00:00 AM\n",
       "  Time                          14:11:38\n",
       "  Sensor Type                Water Level\n",
       "  Reading                              2\n",
       "                                        \n",
       " Name: 4705, dtype: object,\n",
       " Location                            A10\n",
       "  Date            10/21/2021 12:00:00 AM\n",
       "  Time                          14:11:38\n",
       "  Sensor Type                Water Level\n",
       "  Reading                             24\n",
       "                                        \n",
       " Name: 862, dtype: object,\n",
       " Location                             C8\n",
       "  Date            10/21/2021 12:00:00 AM\n",
       "  Time                          14:11:38\n",
       "  Sensor Type                Water Level\n",
       "  Reading                              2\n",
       "                                        \n",
       " Name: 4109, dtype: object,\n",
       " Location                             B5\n",
       "  Date            10/21/2021 12:00:00 AM\n",
       "  Time                          14:11:39\n",
       "  Sensor Type                Water Level\n",
       "  Reading                              7\n",
       "                                        \n",
       " Name: 2761, dtype: object,\n",
       " Location                             F9\n",
       "  Date            10/21/2021 12:00:00 AM\n",
       "  Time                          14:11:39\n",
       "  Sensor Type                Water Level\n",
       "  Reading                            194\n",
       "                                        \n",
       " Name: 2305, dtype: object,\n",
       " Location                             C3\n",
       "  Date            10/21/2021 12:00:00 AM\n",
       "  Time                          14:11:39\n",
       "  Sensor Type                Water Level\n",
       "  Reading                              6\n",
       "                                        \n",
       " Name: 3468, dtype: object,\n",
       " Location                             D8\n",
       "  Date            10/21/2021 12:00:00 AM\n",
       "  Time                          14:11:40\n",
       "  Sensor Type                Water Level\n",
       "  Reading                              3\n",
       "                                        \n",
       " Name: 4184, dtype: object]"
      ]
     },
     "execution_count": 251,
     "metadata": {},
     "output_type": "execute_result"
    }
   ],
   "source": [
    "temp_array.pop(0)#careful with this should only be done once"
   ]
  },
  {
   "cell_type": "code",
   "execution_count": 259,
   "id": "9c743495",
   "metadata": {},
   "outputs": [],
   "source": [
    "frame_data = []\n",
    "for frame in range(len(temp_array)):\n",
    "    #frame_data = []\n",
    "    sensor_tracker = 0\n",
    "    empty_array = np.zeros((10, 10), int)\n",
    "    #frame = 70\n",
    "    c = 0\n",
    "    for row in range(len(empty_array[0])):\n",
    "        for col in range(len(empty_array[1])):\n",
    "            #access row col index\n",
    "            #fill necessarily\n",
    "            #row:\n",
    "            #0 = A\n",
    "            #1 = B......\n",
    "            #col:\n",
    "            #0 = 1\n",
    "            #1 = 2....\n",
    "            #eg in this instance, search for all cases of A1 in this frame\n",
    "            #then if there are duplicates, either: average values or pick last\n",
    "            #then store in 2d array\n",
    "            #so...when searching for all cases of A1, get unique list str\n",
    "            #loop/get curr index in unique string\n",
    "            #loop through time frame data either for avg or last\n",
    "            #update 2d array and move on to next\n",
    "            if sensor_tracker < len(unique_items):\n",
    "                #print(\"id: \",sensor_tracker)\n",
    "                sensor_id = unique_items[sensor_tracker]\n",
    "                c +=1\n",
    "            for item in temp_array[frame]:\n",
    "                #if item!=[]:\n",
    "                #print(item[0][0])\n",
    "                #Start_time = Start_time.replace(\" \", \"\")\n",
    "                if item[0].replace(\" \",\"\") == sensor_id.replace(\" \",\"\"):\n",
    "                    #print(item[0])\n",
    "                    #update array\n",
    "                    empty_array[row,col] = int(item[4])\n",
    "                    break\n",
    "            sensor_tracker+=1\n",
    "    frame_data.append(convert_to_255_range(empty_array))"
   ]
  },
  {
   "cell_type": "code",
   "execution_count": 260,
   "id": "50cf34b8",
   "metadata": {},
   "outputs": [
    {
     "data": {
      "text/plain": [
       "77"
      ]
     },
     "execution_count": 260,
     "metadata": {},
     "output_type": "execute_result"
    }
   ],
   "source": [
    "len(frame_data)"
   ]
  },
  {
   "cell_type": "code",
   "execution_count": 254,
   "id": "ff28a9f1",
   "metadata": {},
   "outputs": [
    {
     "data": {
      "text/plain": [
       "(77, 10, 10)"
      ]
     },
     "execution_count": 254,
     "metadata": {},
     "output_type": "execute_result"
    }
   ],
   "source": [
    "frame_data_numpy = np.array(frame_data)\n",
    "frame_data_numpy.shape"
   ]
  },
  {
   "cell_type": "code",
   "execution_count": 255,
   "id": "be912332",
   "metadata": {},
   "outputs": [
    {
     "data": {
      "text/plain": [
       "(77, 1, 10, 10)"
      ]
     },
     "execution_count": 255,
     "metadata": {},
     "output_type": "execute_result"
    }
   ],
   "source": [
    "y = np.expand_dims(frame_data_numpy, axis=1)\n",
    "y.shape"
   ]
  },
  {
   "cell_type": "code",
   "execution_count": 256,
   "id": "dd84ccdb",
   "metadata": {},
   "outputs": [
    {
     "data": {
      "text/plain": [
       "(77, 10, 10, 1)"
      ]
     },
     "execution_count": 256,
     "metadata": {},
     "output_type": "execute_result"
    }
   ],
   "source": [
    "np.transpose(y, (0, 2, 3, 1)).shape"
   ]
  },
  {
   "cell_type": "code",
   "execution_count": 257,
   "id": "13a03a23",
   "metadata": {},
   "outputs": [],
   "source": [
    "y = y.transpose(0,2,3,1)"
   ]
  },
  {
   "cell_type": "code",
   "execution_count": 258,
   "id": "a3b9c119",
   "metadata": {},
   "outputs": [
    {
     "data": {
      "text/plain": [
       "(77, 10, 10, 1)"
      ]
     },
     "execution_count": 258,
     "metadata": {},
     "output_type": "execute_result"
    }
   ],
   "source": [
    "y.shape"
   ]
  },
  {
   "cell_type": "code",
   "execution_count": 262,
   "id": "53220632",
   "metadata": {},
   "outputs": [
    {
     "name": "stdout",
     "output_type": "stream",
     "text": [
      "MoviePy - Building file test.gif with imageio.\n"
     ]
    },
    {
     "name": "stderr",
     "output_type": "stream",
     "text": [
      "                                                                                                                       \r"
     ]
    }
   ],
   "source": [
    "from moviepy.editor import ImageSequenceClip\n",
    "clip = ImageSequenceClip(list(y), fps=10)\n",
    "clip.write_gif('test.gif', fps=10)"
   ]
  },
  {
   "cell_type": "code",
   "execution_count": 181,
   "id": "d549484c",
   "metadata": {},
   "outputs": [
    {
     "data": {
      "text/plain": [
       "array([[ 45,  11,  11,  61,  63,   0,   9,   0,   0,   0],\n",
       "       [  3,  13, 101,  57,  13,   2,  10,   0,   0,   0],\n",
       "       [  1,   0,  77,  11,  48,   1,   0,   0,   0,   4],\n",
       "       [ 49,  68, 254,  79,  18,   0, 134,   0,   0,  63],\n",
       "       [  0,   0,   0,   0,   0,   0,   0,   0,   0,   0],\n",
       "       [  0,   0,   0,   0,   0,   0,   0,  10,   0,   8],\n",
       "       [  4, 106,   0,   0,   0,   0,   0,   0,   0,   0],\n",
       "       [  0,   0,   0,   0,   0,   0,   0,   0,   0,   0],\n",
       "       [  0,   0,   0,   0,   0,   0,   0,   0,   0,   0],\n",
       "       [  0,   0,   0,   0,   0,   0,   0,   0,   0,   0]], dtype=uint8)"
      ]
     },
     "execution_count": 181,
     "metadata": {},
     "output_type": "execute_result"
    }
   ],
   "source": [
    "frame_data_numpy[70]"
   ]
  },
  {
   "cell_type": "code",
   "execution_count": 186,
   "id": "c71a8728",
   "metadata": {},
   "outputs": [
    {
     "data": {
      "text/plain": [
       "(78, 10, 10, 1)"
      ]
     },
     "execution_count": 186,
     "metadata": {},
     "output_type": "execute_result"
    }
   ],
   "source": [
    "frames = np.random.randint(256, size=[78, 10, 10, 1], dtype=np.uint8)\n",
    "frames.shape"
   ]
  },
  {
   "cell_type": "code",
   "execution_count": null,
   "id": "16fd03f3",
   "metadata": {},
   "outputs": [],
   "source": [
    "#save all frames to files as tensors(to work with custom dataloader)\n"
   ]
  }
 ],
 "metadata": {
  "kernelspec": {
   "display_name": "Python 3 (ipykernel)",
   "language": "python",
   "name": "python3"
  },
  "language_info": {
   "codemirror_mode": {
    "name": "ipython",
    "version": 3
   },
   "file_extension": ".py",
   "mimetype": "text/x-python",
   "name": "python",
   "nbconvert_exporter": "python",
   "pygments_lexer": "ipython3",
   "version": "3.7.9"
  }
 },
 "nbformat": 4,
 "nbformat_minor": 5
}
