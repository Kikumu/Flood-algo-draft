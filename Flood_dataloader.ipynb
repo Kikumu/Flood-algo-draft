{
 "cells": [
  {
   "cell_type": "code",
   "execution_count": 3,
   "id": "c8e8eb39",
   "metadata": {},
   "outputs": [],
   "source": [
    "import pandas as pd\n",
    "from torch.utils.data import Dataset\n",
    "import os\n",
    "import torch"
   ]
  },
  {
   "cell_type": "code",
   "execution_count": 4,
   "id": "1759859f",
   "metadata": {},
   "outputs": [],
   "source": [
    "class conv_lstm_dataloader(Dataset):\n",
    "    def __init__(self, csv_file, root_dir, root_dir_1):\n",
    "        self.annotations = pd.read_csv(csv_file)\n",
    "        self.root_dir = root_dir\n",
    "        self.root_dir_1 = root_dir_1\n",
    "        \n",
    "    def __len__(self):\n",
    "        return len(self.annotations) #number of values in overall dataset\n",
    "    \n",
    "    def __getitem__(self, index):\n",
    "        input_path = os.path.join(self.root_dir, self.annotations.iloc[index, 1]) # int is location of filename in dataframe/csv\n",
    "        output_path = os.path.join(self.root_dir_1, self.annotations.iloc[index, 2]) # int is location of filename in dataframe/csv\n",
    "        input_tensor = torch.load(input_path) # open tensor\n",
    "        label_tensor = torch.load(output_path) #assigns labels\n",
    "        \n",
    "        return (input_tensor, label_tensor)"
   ]
  },
  {
   "cell_type": "code",
   "execution_count": 5,
   "id": "f51b926e",
   "metadata": {},
   "outputs": [],
   "source": [
    "def load_input_tensors(root_dir, input_dir, ext):\n",
    "    input_paths = []\n",
    "    for filename in os.listdir(root_dir):\n",
    "        if filename.endswith(ext): \n",
    "            input_paths.append(filename)\n",
    "            playlist_tensor = torch.load((os.path.join(root_dir,filename)))\n",
    "            head, sep, tail = filename.partition('.')\n",
    "            #scaler.fit(playlist_tensor)\n",
    "            #playlist_tensor = scaler.transform(playlist_tensor)\n",
    "            print('tensor INPUT shape: ',playlist_tensor.shape)\n",
    "            torch.save(playlist_tensor, input_dir+'/'+head+ext) \n",
    "    return input_paths"
   ]
  },
  {
   "cell_type": "code",
   "execution_count": 6,
   "id": "26267ff9",
   "metadata": {},
   "outputs": [],
   "source": [
    "def load_output_tensors(root_dir, output_dir, ext):\n",
    "    output_paths = []\n",
    "    for filename in os.listdir(root_dir):\n",
    "        if filename.endswith(ext): \n",
    "            output_paths.append(filename)\n",
    "            playlist_tensor = torch.load((os.path.join(root_dir,filename)))\n",
    "            playlist_tensor = torch.cat([playlist_tensor[1:], playlist_tensor[-2:-1]])\n",
    "            #scaler.fit(playlist_tensor)\n",
    "            #playlist_tensor = scaler.transform(playlist_tensor)\n",
    "            print('tensor OUTPUT shape: ',playlist_tensor.shape)\n",
    "            head, sep, tail = filename.partition('.')\n",
    "            torch.save(playlist_tensor, output_dir+'/'+head+ext)\n",
    "    return output_paths"
   ]
  },
  {
   "cell_type": "code",
   "execution_count": null,
   "id": "50f78301",
   "metadata": {},
   "outputs": [],
   "source": []
  }
 ],
 "metadata": {
  "kernelspec": {
   "display_name": "Python 3 (ipykernel)",
   "language": "python",
   "name": "python3"
  },
  "language_info": {
   "codemirror_mode": {
    "name": "ipython",
    "version": 3
   },
   "file_extension": ".py",
   "mimetype": "text/x-python",
   "name": "python",
   "nbconvert_exporter": "python",
   "pygments_lexer": "ipython3",
   "version": "3.7.9"
  }
 },
 "nbformat": 4,
 "nbformat_minor": 5
}
